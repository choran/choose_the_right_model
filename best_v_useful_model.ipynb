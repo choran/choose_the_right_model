{
 "cells": [
  {
   "cell_type": "markdown",
   "metadata": {},
   "source": [
    "## Pre-Trained Model Evaluation"
   ]
  },
  {
   "cell_type": "code",
   "execution_count": 2,
   "metadata": {},
   "outputs": [
    {
     "name": "stderr",
     "output_type": "stream",
     "text": [
      "WARNING: Logging before flag parsing goes to stderr.\n",
      "W0703 19:48:00.251574 139670899906304 deprecation_wrapper.py:119] From /home/ec2-user/anaconda3/envs/tensorflow_p36/lib/python3.6/site-packages/tensorflow_hub/native_module.py:54: The name tf.GraphKeys is deprecated. Please use tf.compat.v1.GraphKeys instead.\n",
      "\n",
      "W0703 19:48:00.254606 139670899906304 deprecation_wrapper.py:119] From /home/ec2-user/anaconda3/envs/tensorflow_p36/lib/python3.6/site-packages/tensorflow_hub/__init__.py:65: The name tf.VERSION is deprecated. Please use tf.version.VERSION instead.\n",
      "\n"
     ]
    }
   ],
   "source": [
    "import sys\n",
    "import tensorflow as tf\n",
    "import tensorflow_hub as hub\n",
    "import numpy as np\n",
    "import pandas as pd\n",
    "import json\n",
    "from bert_serving.client import BertClient\n",
    "import tensorflow as tf\n",
    "import csv\n",
    "import json\n",
    "import itertools\n",
    "import re\n",
    "import random\n",
    "import matplotlib.pyplot as plt"
   ]
  },
  {
   "cell_type": "markdown",
   "metadata": {},
   "source": [
    "### Download the bert model\n",
    "You only need to do this once"
   ]
  },
  {
   "cell_type": "code",
   "execution_count": null,
   "metadata": {},
   "outputs": [],
   "source": [
    "!wget https://storage.googleapis.com/bert_models/2018_10_18/uncased_L-24_H-1024_A-16.zip "
   ]
  },
  {
   "cell_type": "markdown",
   "metadata": {},
   "source": [
    "### Run the BERT workers"
   ]
  },
  {
   "cell_type": "code",
   "execution_count": null,
   "metadata": {},
   "outputs": [],
   "source": [
    "!bert-serving-start -model_dir uncased_L-24_H-1024_A-16 -num_worker=4"
   ]
  },
  {
   "cell_type": "markdown",
   "metadata": {},
   "source": [
    "### Read in the baseline queries"
   ]
  },
  {
   "cell_type": "code",
   "execution_count": 4,
   "metadata": {},
   "outputs": [
    {
     "data": {
      "text/html": [
       "<div>\n",
       "<style scoped>\n",
       "    .dataframe tbody tr th:only-of-type {\n",
       "        vertical-align: middle;\n",
       "    }\n",
       "\n",
       "    .dataframe tbody tr th {\n",
       "        vertical-align: top;\n",
       "    }\n",
       "\n",
       "    .dataframe thead th {\n",
       "        text-align: right;\n",
       "    }\n",
       "</style>\n",
       "<table border=\"1\" class=\"dataframe\">\n",
       "  <thead>\n",
       "    <tr style=\"text-align: right;\">\n",
       "      <th></th>\n",
       "      <th>Saved Query</th>\n",
       "      <th>New Query</th>\n",
       "    </tr>\n",
       "  </thead>\n",
       "  <tbody>\n",
       "    <tr>\n",
       "      <th>0</th>\n",
       "      <td>I really do not like this product</td>\n",
       "      <td>I really like this product</td>\n",
       "    </tr>\n",
       "    <tr>\n",
       "      <th>1</th>\n",
       "      <td>Where can I view my settings</td>\n",
       "      <td>I can't find the settings page</td>\n",
       "    </tr>\n",
       "    <tr>\n",
       "      <th>2</th>\n",
       "      <td>How much will this cost?</td>\n",
       "      <td>Is this expensive?</td>\n",
       "    </tr>\n",
       "    <tr>\n",
       "      <th>3</th>\n",
       "      <td>How do I change my password</td>\n",
       "      <td>change How I do password my</td>\n",
       "    </tr>\n",
       "    <tr>\n",
       "      <th>4</th>\n",
       "      <td>Blah blah blah blah</td>\n",
       "      <td>Can I get some help?</td>\n",
       "    </tr>\n",
       "    <tr>\n",
       "      <th>5</th>\n",
       "      <td>Hello, is there anyone there?</td>\n",
       "      <td>Does this integrate with gmail?</td>\n",
       "    </tr>\n",
       "    <tr>\n",
       "      <th>6</th>\n",
       "      <td>Where is your data stored?</td>\n",
       "      <td>How secure is your product</td>\n",
       "    </tr>\n",
       "    <tr>\n",
       "      <th>7</th>\n",
       "      <td>What temperature is it today?</td>\n",
       "      <td>What time is the film in the cinema</td>\n",
       "    </tr>\n",
       "    <tr>\n",
       "      <th>8</th>\n",
       "      <td>Can I sign up for a free trial</td>\n",
       "      <td>Do I need a credit card to get started?</td>\n",
       "    </tr>\n",
       "    <tr>\n",
       "      <th>9</th>\n",
       "      <td>What is the Capital of Ireland?</td>\n",
       "      <td>What time is the game on?</td>\n",
       "    </tr>\n",
       "  </tbody>\n",
       "</table>\n",
       "</div>"
      ],
      "text/plain": [
       "                         Saved Query                                New Query\n",
       "0  I really do not like this product               I really like this product\n",
       "1       Where can I view my settings           I can't find the settings page\n",
       "2           How much will this cost?                       Is this expensive?\n",
       "3        How do I change my password              change How I do password my\n",
       "4                Blah blah blah blah                     Can I get some help?\n",
       "5      Hello, is there anyone there?          Does this integrate with gmail?\n",
       "6         Where is your data stored?               How secure is your product\n",
       "7      What temperature is it today?      What time is the film in the cinema\n",
       "8     Can I sign up for a free trial  Do I need a credit card to get started?\n",
       "9    What is the Capital of Ireland?                What time is the game on?"
      ]
     },
     "execution_count": 4,
     "metadata": {},
     "output_type": "execute_result"
    }
   ],
   "source": [
    "qs_file = './sample_questions.csv'\n",
    "base_qs = pd.read_csv(qs_file)\n",
    "base_qs.head(n=10)"
   ]
  },
  {
   "cell_type": "markdown",
   "metadata": {},
   "source": [
    "### Download the USE module from TF Hub"
   ]
  },
  {
   "cell_type": "code",
   "execution_count": 5,
   "metadata": {},
   "outputs": [
    {
     "name": "stderr",
     "output_type": "stream",
     "text": [
      "W0703 19:48:11.836884 139670899906304 deprecation_wrapper.py:119] From /home/ec2-user/anaconda3/envs/tensorflow_p36/lib/python3.6/site-packages/tensorflow_hub/module.py:104: The name tf.get_default_graph is deprecated. Please use tf.compat.v1.get_default_graph instead.\n",
      "\n",
      "W0703 19:48:11.854900 139670899906304 deprecation_wrapper.py:119] From /home/ec2-user/anaconda3/envs/tensorflow_p36/lib/python3.6/site-packages/tensorflow_hub/resolver.py:73: The name tf.logging.log_first_n is deprecated. Please use tf.compat.v1.logging.log_first_n instead.\n",
      "\n",
      "W0703 19:48:11.855700 139670899906304 deprecation_wrapper.py:119] From /home/ec2-user/anaconda3/envs/tensorflow_p36/lib/python3.6/site-packages/tensorflow_hub/resolver.py:73: The name tf.logging.INFO is deprecated. Please use tf.compat.v1.logging.INFO instead.\n",
      "\n",
      "W0703 19:48:11.856588 139670899906304 deprecation_wrapper.py:119] From /home/ec2-user/anaconda3/envs/tensorflow_p36/lib/python3.6/site-packages/tensorflow_hub/resolver.py:80: The name tf.gfile.MakeDirs is deprecated. Please use tf.io.gfile.makedirs instead.\n",
      "\n",
      "W0703 19:48:11.857556 139670899906304 deprecation_wrapper.py:119] From /home/ec2-user/anaconda3/envs/tensorflow_p36/lib/python3.6/site-packages/tensorflow_hub/tf_utils.py:55: The name tf.gfile.GFile is deprecated. Please use tf.io.gfile.GFile instead.\n",
      "\n",
      "W0703 19:48:11.859759 139670899906304 deprecation_wrapper.py:119] From /home/ec2-user/anaconda3/envs/tensorflow_p36/lib/python3.6/site-packages/tensorflow_hub/tf_utils.py:58: The name tf.gfile.Rename is deprecated. Please use tf.io.gfile.rename instead.\n",
      "\n",
      "W0703 19:48:11.860535 139670899906304 deprecation_wrapper.py:119] From /home/ec2-user/anaconda3/envs/tensorflow_p36/lib/python3.6/site-packages/tensorflow_hub/resolver.py:296: The name tf.gfile.Exists is deprecated. Please use tf.io.gfile.exists instead.\n",
      "\n",
      "W0703 19:48:11.861742 139670899906304 deprecation_wrapper.py:119] From /home/ec2-user/anaconda3/envs/tensorflow_p36/lib/python3.6/site-packages/tensorflow_hub/resolver.py:333: The name tf.gfile.DeleteRecursively is deprecated. Please use tf.io.gfile.rmtree instead.\n",
      "\n",
      "W0703 19:48:11.863772 139670899906304 deprecation_wrapper.py:119] From /home/ec2-user/anaconda3/envs/tensorflow_p36/lib/python3.6/site-packages/tensorflow_hub/saved_model_lib.py:70: The name tf.saved_model.constants.SAVED_MODEL_FILENAME_PB is deprecated. Please use tf.saved_model.SAVED_MODEL_FILENAME_PB instead.\n",
      "\n",
      "W0703 19:48:11.971355 139670899906304 deprecation_wrapper.py:119] From /home/ec2-user/anaconda3/envs/tensorflow_p36/lib/python3.6/site-packages/tensorflow_hub/saved_model_lib.py:160: The name tf.saved_model.constants.ASSETS_KEY is deprecated. Please use tf.saved_model.ASSETS_KEY instead.\n",
      "\n",
      "W0703 19:48:11.975305 139670899906304 deprecation_wrapper.py:119] From /home/ec2-user/anaconda3/envs/tensorflow_p36/lib/python3.6/site-packages/tensorflow_hub/saved_model_lib.py:45: The name tf.saved_model.constants.VARIABLES_DIRECTORY is deprecated. Please use tf.saved_model.VARIABLES_DIRECTORY instead.\n",
      "\n",
      "W0703 19:48:11.976123 139670899906304 deprecation_wrapper.py:119] From /home/ec2-user/anaconda3/envs/tensorflow_p36/lib/python3.6/site-packages/tensorflow_hub/saved_model_lib.py:46: The name tf.saved_model.constants.VARIABLES_FILENAME is deprecated. Please use tf.saved_model.VARIABLES_FILENAME instead.\n",
      "\n",
      "W0703 19:48:11.977023 139670899906304 deprecation_wrapper.py:119] From /home/ec2-user/anaconda3/envs/tensorflow_p36/lib/python3.6/site-packages/tensorflow_hub/module.py:307: The name tf.get_variable_scope is deprecated. Please use tf.compat.v1.get_variable_scope instead.\n",
      "\n",
      "W0703 19:48:11.978861 139670899906304 deprecation_wrapper.py:119] From /home/ec2-user/anaconda3/envs/tensorflow_p36/lib/python3.6/site-packages/tensorflow_hub/module.py:312: The name tf.variable_scope is deprecated. Please use tf.compat.v1.variable_scope instead.\n",
      "\n",
      "W0703 19:48:11.980223 139670899906304 deprecation_wrapper.py:119] From /home/ec2-user/anaconda3/envs/tensorflow_p36/lib/python3.6/site-packages/tensorflow_hub/native_module.py:380: The name tf.train.import_meta_graph is deprecated. Please use tf.compat.v1.train.import_meta_graph instead.\n",
      "\n",
      "W0703 19:48:13.398990 139670899906304 deprecation_wrapper.py:119] From /home/ec2-user/anaconda3/envs/tensorflow_p36/lib/python3.6/site-packages/tensorflow_hub/native_module.py:338: The name tf.train.init_from_checkpoint is deprecated. Please use tf.compat.v1.train.init_from_checkpoint instead.\n",
      "\n",
      "W0703 19:48:13.757043 139670899906304 deprecation_wrapper.py:119] From /home/ec2-user/anaconda3/envs/tensorflow_p36/lib/python3.6/site-packages/tensorflow_hub/native_module.py:342: The name tf.train.Saver is deprecated. Please use tf.compat.v1.train.Saver instead.\n",
      "\n",
      "W0703 19:48:13.757977 139670899906304 deprecation_wrapper.py:119] From /home/ec2-user/anaconda3/envs/tensorflow_p36/lib/python3.6/site-packages/tensorflow_hub/native_module.py:345: The name tf.train.SaverDef is deprecated. Please use tf.compat.v1.train.SaverDef instead.\n",
      "\n"
     ]
    }
   ],
   "source": [
    "module_url = \"https://tfhub.dev/google/universal-sentence-encoder-large/3\" \n",
    "embed = hub.Module(module_url)"
   ]
  },
  {
   "cell_type": "markdown",
   "metadata": {},
   "source": [
    "### Download the ELMO module"
   ]
  },
  {
   "cell_type": "code",
   "execution_count": 6,
   "metadata": {},
   "outputs": [],
   "source": [
    "elmo_module_url = \"https://tfhub.dev/google/elmo/2\"\n",
    "elmo_embed = hub.Module(elmo_module_url)"
   ]
  },
  {
   "cell_type": "markdown",
   "metadata": {},
   "source": [
    "### Find the similarity using angular distance\n",
    "Angular distance is a form of cosine similarity"
   ]
  },
  {
   "cell_type": "code",
   "execution_count": 7,
   "metadata": {},
   "outputs": [],
   "source": [
    "sts_input1 = tf.placeholder(tf.float64, shape=(None))\n",
    "sts_input2 = tf.placeholder(tf.float64, shape=(None))\n",
    "\n",
    "# For evaluation we use exactly normalized rather than\n",
    "# approximately normalized.\n",
    "sts_encode1 = tf.nn.l2_normalize((sts_input1), axis=1)\n",
    "sts_encode2 = tf.nn.l2_normalize((sts_input2), axis=1)\n",
    "\n",
    "cosine_similarities = tf.reduce_sum(tf.multiply(sts_encode1, sts_encode2), axis=1)\n",
    "clip_cosine_similarities = tf.clip_by_value(cosine_similarities, 0.0, 1.0)\n",
    "sim_scores = 1.0 - tf.divide(tf.acos(clip_cosine_similarities), 3.14)\n",
    "\n",
    "def get_scores(session, text_a, text_b):\n",
    "    \"\"\"Returns the similarity scores\"\"\"\n",
    "    emba, embb, scores= session.run(\n",
    "        [sts_encode1, sts_encode2, sim_scores],\n",
    "        feed_dict={\n",
    "            sts_input1: text_a,\n",
    "            sts_input2: text_b\n",
    "        })\n",
    "    return(emba, embb, scores)"
   ]
  },
  {
   "cell_type": "markdown",
   "metadata": {},
   "source": [
    "### Create an interactive TF session"
   ]
  },
  {
   "cell_type": "code",
   "execution_count": 8,
   "metadata": {},
   "outputs": [],
   "source": [
    "session = tf.InteractiveSession()\n",
    "session.run(tf.global_variables_initializer())\n",
    "session.run(tf.tables_initializer())"
   ]
  },
  {
   "cell_type": "markdown",
   "metadata": {},
   "source": [
    "### Find the most similar sentences using BERT embeddings"
   ]
  },
  {
   "cell_type": "code",
   "execution_count": null,
   "metadata": {},
   "outputs": [],
   "source": [
    "results = []\n",
    "queries = [q for q in base_qs['Saved Query']]\n",
    "examples = [e for e in base_qs['New Query']]\n",
    "bc = BertClient(check_length=False)\n",
    "example_emb = bc.encode(examples)\n",
    "\n",
    "for i, q in enumerate(queries):\n",
    "    \n",
    "    # Get the BERT embeddings score and find the best matching sentences\n",
    "    new_emb = bc.encode([q])\n",
    "    emba, embb, sim_score = get_scores(session, new_emb.tolist(), example_emb.tolist())\n",
    "    base_qs['Score'] = sim_score\n",
    "    sort_df = base_qs.sort_values('Score', ascending=False)\n",
    "    best = sort_df.head(n=1)\n",
    "    ans = (best['New Query']).tolist()[0]\n",
    "    \n",
    "    # Get the USE embeddings score for the matching sentences\n",
    "    use1, useb, use_score = get_scores(session, session.run(embed([q])), session.run(embed([ans])))\n",
    "    \n",
    "    # Get the ELMO embeddings score for the matching sentences\n",
    "    elmo1, elmo2, elmo_score = get_scores(session, session.run(elmo_embed([q])), session.run(elmo_embed([ans])))\n",
    "\n",
    "    print(\"Result {}:\\nQuestion {}\\nBest Match {}\".format(i+1, q, ans))  \n",
    "    results.append([q, ans, np.round((best['Score']).tolist()[0], 3), \n",
    "                    np.round(use_score.tolist()[0], 3), \n",
    "                    np.round(elmo_score.tolist()[0], 3)])\n",
    "    df = pd.DataFrame(results, columns=['Saved Query', 'New Query', 'BERT Score', 'USE Score', 'ELMO Score'])"
   ]
  },
  {
   "cell_type": "code",
   "execution_count": 8,
   "metadata": {},
   "outputs": [
    {
     "data": {
      "text/html": [
       "<div>\n",
       "<style scoped>\n",
       "    .dataframe tbody tr th:only-of-type {\n",
       "        vertical-align: middle;\n",
       "    }\n",
       "\n",
       "    .dataframe tbody tr th {\n",
       "        vertical-align: top;\n",
       "    }\n",
       "\n",
       "    .dataframe thead th {\n",
       "        text-align: right;\n",
       "    }\n",
       "</style>\n",
       "<table border=\"1\" class=\"dataframe\">\n",
       "  <thead>\n",
       "    <tr style=\"text-align: right;\">\n",
       "      <th></th>\n",
       "      <th>Saved Query</th>\n",
       "      <th>New Query</th>\n",
       "      <th>BERT Score</th>\n",
       "      <th>USE Score</th>\n",
       "      <th>ELMO Score</th>\n",
       "    </tr>\n",
       "  </thead>\n",
       "  <tbody>\n",
       "    <tr>\n",
       "      <th>1</th>\n",
       "      <td>How much will this cost?</td>\n",
       "      <td>Is this expensive?</td>\n",
       "      <td>0.892</td>\n",
       "      <td>0.803</td>\n",
       "      <td>0.742</td>\n",
       "    </tr>\n",
       "    <tr>\n",
       "      <th>2</th>\n",
       "      <td>Where is your data stored?</td>\n",
       "      <td>How secure is your product</td>\n",
       "      <td>0.890</td>\n",
       "      <td>0.625</td>\n",
       "      <td>0.765</td>\n",
       "    </tr>\n",
       "    <tr>\n",
       "      <th>3</th>\n",
       "      <td>What temperature is it today?</td>\n",
       "      <td>What time is the game on?</td>\n",
       "      <td>0.880</td>\n",
       "      <td>0.677</td>\n",
       "      <td>0.746</td>\n",
       "    </tr>\n",
       "    <tr>\n",
       "      <th>4</th>\n",
       "      <td>How do I change my password</td>\n",
       "      <td>I can't find the settings page</td>\n",
       "      <td>0.868</td>\n",
       "      <td>0.671</td>\n",
       "      <td>0.717</td>\n",
       "    </tr>\n",
       "    <tr>\n",
       "      <th>5</th>\n",
       "      <td>Can I sign up for a free trial</td>\n",
       "      <td>Do I need a credit card to get started?</td>\n",
       "      <td>0.868</td>\n",
       "      <td>0.736</td>\n",
       "      <td>0.753</td>\n",
       "    </tr>\n",
       "    <tr>\n",
       "      <th>6</th>\n",
       "      <td>Where can I view my settings</td>\n",
       "      <td>Does this integrate with gmail?</td>\n",
       "      <td>0.866</td>\n",
       "      <td>0.620</td>\n",
       "      <td>0.717</td>\n",
       "    </tr>\n",
       "    <tr>\n",
       "      <th>7</th>\n",
       "      <td>I really do not like this product</td>\n",
       "      <td>I really like this product</td>\n",
       "      <td>0.865</td>\n",
       "      <td>0.747</td>\n",
       "      <td>0.864</td>\n",
       "    </tr>\n",
       "    <tr>\n",
       "      <th>8</th>\n",
       "      <td>What is the Capital of Ireland?</td>\n",
       "      <td>What time is the film in the cinema</td>\n",
       "      <td>0.865</td>\n",
       "      <td>0.578</td>\n",
       "      <td>0.663</td>\n",
       "    </tr>\n",
       "    <tr>\n",
       "      <th>9</th>\n",
       "      <td>Hello, is there anyone there?</td>\n",
       "      <td>What time is the game on?</td>\n",
       "      <td>0.832</td>\n",
       "      <td>0.594</td>\n",
       "      <td>0.680</td>\n",
       "    </tr>\n",
       "    <tr>\n",
       "      <th>10</th>\n",
       "      <td>Blah blah blah blah</td>\n",
       "      <td>Does this integrate with gmail?</td>\n",
       "      <td>0.765</td>\n",
       "      <td>0.519</td>\n",
       "      <td>0.585</td>\n",
       "    </tr>\n",
       "  </tbody>\n",
       "</table>\n",
       "</div>"
      ],
      "text/plain": [
       "                          Saved Query  \\\n",
       "1            How much will this cost?   \n",
       "2          Where is your data stored?   \n",
       "3       What temperature is it today?   \n",
       "4         How do I change my password   \n",
       "5      Can I sign up for a free trial   \n",
       "6        Where can I view my settings   \n",
       "7   I really do not like this product   \n",
       "8     What is the Capital of Ireland?   \n",
       "9       Hello, is there anyone there?   \n",
       "10                Blah blah blah blah   \n",
       "\n",
       "                                  New Query  BERT Score  USE Score  ELMO Score  \n",
       "1                        Is this expensive?       0.892      0.803       0.742  \n",
       "2                How secure is your product       0.890      0.625       0.765  \n",
       "3                 What time is the game on?       0.880      0.677       0.746  \n",
       "4            I can't find the settings page       0.868      0.671       0.717  \n",
       "5   Do I need a credit card to get started?       0.868      0.736       0.753  \n",
       "6           Does this integrate with gmail?       0.866      0.620       0.717  \n",
       "7                I really like this product       0.865      0.747       0.864  \n",
       "8       What time is the film in the cinema       0.865      0.578       0.663  \n",
       "9                 What time is the game on?       0.832      0.594       0.680  \n",
       "10          Does this integrate with gmail?       0.765      0.519       0.585  "
      ]
     },
     "execution_count": 8,
     "metadata": {},
     "output_type": "execute_result"
    }
   ],
   "source": [
    "df = df.sort_values('BERT Score', ascending=False)\n",
    "df.index = np.arange(1,len(df)+1)\n",
    "df\n"
   ]
  },
  {
   "cell_type": "code",
   "execution_count": 10,
   "metadata": {},
   "outputs": [
    {
     "data": {
      "image/png": "[encoded data removed]",
      "text/plain": [
       "<Figure size 864x576 with 1 Axes>"
      ]
     },
     "metadata": {},
     "output_type": "display_data"
    }
   ],
   "source": [
    "bert = [r*100 for r in df['BERT Score']]\n",
    "use = [r*100 for r in df['USE Score']]\n",
    "elmo = [r*100 for r in df['ELMO Score']]\n",
    "\n",
    "plt.figure(figsize=(12, 8))\n",
    "rank = [1, 2, 3, 4, 5, 6, 7, 8, 9, 10]\n",
    "\n",
    "plt.xlim([1, 10])\n",
    "plt.ylim([40, 100])\n",
    "plt.plot(rank, bert, color='green')\n",
    "plt.plot(rank, use, color='orange')\n",
    "plt.plot(rank, elmo, color='blue')\n",
    "plt.xlabel(\"Ranking\")\n",
    "plt.ylabel('Cosine similarity')\n",
    "plt.title(\"Score comparison\")\n",
    "plt.legend([\"bert\", \"use\", \"elmo\"], loc=4)\n",
    "plt.savefig(\"BERT model_comparison\")\n",
    "plt.show()"
   ]
  },
  {
   "cell_type": "code",
   "execution_count": 9,
   "metadata": {},
   "outputs": [
    {
     "name": "stdout",
     "output_type": "stream",
     "text": [
      "I really do not like this product: I really like this product: [0.74743642 0.56324132 0.61801848 0.54669346 0.59655949 0.5268201\n",
      " 0.58462825 0.49974639 0.55162396 0.49974639]: [0.86375383]\n",
      "Where can I view my settings: I can't find the settings page: [0.54152227 0.82407737 0.52529959 0.64732134 0.59830295 0.62034671\n",
      " 0.54166945 0.60852898 0.56436388 0.62029246]: [0.71781397]\n",
      "How much will this cost?: Is this expensive?: [0.59793322 0.56694558 0.80324722 0.52709434 0.61297099 0.57004207\n",
      " 0.60277072 0.61415834 0.64619797 0.59590248]: [0.74247178]\n",
      "How do I change my password: change How I do password my: [0.53757991 0.67064965 0.52552733 0.88330973 0.62440804 0.6250195\n",
      " 0.61467375 0.56159662 0.64845157 0.58505201]: [0.81114471]\n",
      "Blah blah blah blah: Can I get some help?: [0.58631497 0.50521383 0.53215951 0.54350224 0.63920364 0.5191529\n",
      " 0.49974639 0.49974639 0.51740571 0.52475955]: [0.58128593]\n",
      "Hello, is there anyone there?: Can I get some help?: [0.55921744 0.54919871 0.56503569 0.56128733 0.68496432 0.53961006\n",
      " 0.53082601 0.56246367 0.55342032 0.59447805]: [0.69342058]\n",
      "Where is your data stored?: I can't find the settings page: [0.51739535 0.6485414  0.51735082 0.62494333 0.5429513  0.61509356\n",
      " 0.6254853  0.57943155 0.5438753  0.59309173]: [0.67467328]\n",
      "What temperature is it today?: What time is the game on?: [0.54742748 0.55704424 0.55806853 0.54011821 0.55472859 0.53083016\n",
      " 0.54840307 0.6471258  0.50474374 0.67663542]: [0.74587908]\n",
      "Can I sign up for a free trial: Do I need a credit card to get started?: [0.5850186  0.60487549 0.65001475 0.61849462 0.61947137 0.66231494\n",
      " 0.58415236 0.56157546 0.73613235 0.57814456]: [0.75290912]\n",
      "What is the Capital of Ireland?: What time is the game on?: [0.49974639 0.56696082 0.54843782 0.57701434 0.53612123 0.5568583\n",
      " 0.54095611 0.57829054 0.54536671 0.59118107]: [0.67931869]\n"
     ]
    }
   ],
   "source": [
    "results = []\n",
    "queries = [q for q in base_qs['Saved Query']]\n",
    "examples = [e for e in base_qs['New Query']]\n",
    "bc = BertClient(check_length=False)\n",
    "\n",
    "for i, q in enumerate(queries):\n",
    "    \n",
    "    # Get the USE embeddings score for the matching sentences\n",
    "    use1, useb, use_score = get_scores(session, session.run(embed([q])), session.run(embed(examples)))\n",
    "    \n",
    "    base_qs['Score'] = use_score\n",
    "    sort_df = base_qs.sort_values('Score', ascending=False)\n",
    "    best = sort_df.head(n=1)\n",
    "    ans = (best['New Query']).tolist()[0]\n",
    "    \n",
    "    # Get the ELMO embeddings score for the matching sentences\n",
    "    elmo1, elmo2, elmo_score = get_scores(session, session.run(elmo_embed([q])), session.run(elmo_embed([ans])))\n",
    "    # Get the BERT embeddings score and find the best matching sentences\n",
    "    new_emb = bc.encode([q])\n",
    "    save_emb = bc.encode([ans])\n",
    "    emba, embb, bert_score = get_scores(session, new_emb.tolist(), save_emb.tolist())\n",
    "    \n",
    "    print(\"{}: {}: {}: {}\".format(q, ans, use_score, elmo_score))  \n",
    "    results.append([q, ans, np.round(elmo_score.tolist()[0], 3), \n",
    "                    np.round(use_score.tolist()[0], 3), \n",
    "                    np.round((best['Score']).tolist()[0], 3)])\n",
    "    df = pd.DataFrame(results, columns=['Saved Query', 'New Query', 'USE Score', 'BERT Score','ELMO Score'])"
   ]
  },
  {
   "cell_type": "code",
   "execution_count": 10,
   "metadata": {},
   "outputs": [
    {
     "data": {
      "text/html": [
       "<div>\n",
       "<style scoped>\n",
       "    .dataframe tbody tr th:only-of-type {\n",
       "        vertical-align: middle;\n",
       "    }\n",
       "\n",
       "    .dataframe tbody tr th {\n",
       "        vertical-align: top;\n",
       "    }\n",
       "\n",
       "    .dataframe thead th {\n",
       "        text-align: right;\n",
       "    }\n",
       "</style>\n",
       "<table border=\"1\" class=\"dataframe\">\n",
       "  <thead>\n",
       "    <tr style=\"text-align: right;\">\n",
       "      <th></th>\n",
       "      <th>Saved Query</th>\n",
       "      <th>New Query</th>\n",
       "      <th>USE Score</th>\n",
       "      <th>BERT Score</th>\n",
       "      <th>ELMO Score</th>\n",
       "    </tr>\n",
       "  </thead>\n",
       "  <tbody>\n",
       "    <tr>\n",
       "      <th>1</th>\n",
       "      <td>I really do not like this product</td>\n",
       "      <td>I really like this product</td>\n",
       "      <td>0.864</td>\n",
       "      <td>0.747</td>\n",
       "      <td>0.747</td>\n",
       "    </tr>\n",
       "    <tr>\n",
       "      <th>2</th>\n",
       "      <td>How do I change my password</td>\n",
       "      <td>change How I do password my</td>\n",
       "      <td>0.811</td>\n",
       "      <td>0.538</td>\n",
       "      <td>0.883</td>\n",
       "    </tr>\n",
       "    <tr>\n",
       "      <th>3</th>\n",
       "      <td>Can I sign up for a free trial</td>\n",
       "      <td>Do I need a credit card to get started?</td>\n",
       "      <td>0.753</td>\n",
       "      <td>0.585</td>\n",
       "      <td>0.736</td>\n",
       "    </tr>\n",
       "    <tr>\n",
       "      <th>4</th>\n",
       "      <td>What temperature is it today?</td>\n",
       "      <td>What time is the game on?</td>\n",
       "      <td>0.746</td>\n",
       "      <td>0.547</td>\n",
       "      <td>0.677</td>\n",
       "    </tr>\n",
       "    <tr>\n",
       "      <th>5</th>\n",
       "      <td>How much will this cost?</td>\n",
       "      <td>Is this expensive?</td>\n",
       "      <td>0.742</td>\n",
       "      <td>0.598</td>\n",
       "      <td>0.803</td>\n",
       "    </tr>\n",
       "    <tr>\n",
       "      <th>6</th>\n",
       "      <td>Where can I view my settings</td>\n",
       "      <td>I can't find the settings page</td>\n",
       "      <td>0.718</td>\n",
       "      <td>0.542</td>\n",
       "      <td>0.824</td>\n",
       "    </tr>\n",
       "    <tr>\n",
       "      <th>7</th>\n",
       "      <td>Hello, is there anyone there?</td>\n",
       "      <td>Can I get some help?</td>\n",
       "      <td>0.693</td>\n",
       "      <td>0.559</td>\n",
       "      <td>0.685</td>\n",
       "    </tr>\n",
       "    <tr>\n",
       "      <th>8</th>\n",
       "      <td>What is the Capital of Ireland?</td>\n",
       "      <td>What time is the game on?</td>\n",
       "      <td>0.679</td>\n",
       "      <td>0.500</td>\n",
       "      <td>0.591</td>\n",
       "    </tr>\n",
       "    <tr>\n",
       "      <th>9</th>\n",
       "      <td>Where is your data stored?</td>\n",
       "      <td>I can't find the settings page</td>\n",
       "      <td>0.675</td>\n",
       "      <td>0.517</td>\n",
       "      <td>0.649</td>\n",
       "    </tr>\n",
       "    <tr>\n",
       "      <th>10</th>\n",
       "      <td>Blah blah blah blah</td>\n",
       "      <td>Can I get some help?</td>\n",
       "      <td>0.581</td>\n",
       "      <td>0.586</td>\n",
       "      <td>0.639</td>\n",
       "    </tr>\n",
       "  </tbody>\n",
       "</table>\n",
       "</div>"
      ],
      "text/plain": [
       "                          Saved Query  \\\n",
       "1   I really do not like this product   \n",
       "2         How do I change my password   \n",
       "3      Can I sign up for a free trial   \n",
       "4       What temperature is it today?   \n",
       "5            How much will this cost?   \n",
       "6        Where can I view my settings   \n",
       "7       Hello, is there anyone there?   \n",
       "8     What is the Capital of Ireland?   \n",
       "9          Where is your data stored?   \n",
       "10                Blah blah blah blah   \n",
       "\n",
       "                                  New Query  USE Score  BERT Score  ELMO Score  \n",
       "1                I really like this product      0.864       0.747       0.747  \n",
       "2               change How I do password my      0.811       0.538       0.883  \n",
       "3   Do I need a credit card to get started?      0.753       0.585       0.736  \n",
       "4                 What time is the game on?      0.746       0.547       0.677  \n",
       "5                        Is this expensive?      0.742       0.598       0.803  \n",
       "6            I can't find the settings page      0.718       0.542       0.824  \n",
       "7                      Can I get some help?      0.693       0.559       0.685  \n",
       "8                 What time is the game on?      0.679       0.500       0.591  \n",
       "9            I can't find the settings page      0.675       0.517       0.649  \n",
       "10                     Can I get some help?      0.581       0.586       0.639  "
      ]
     },
     "execution_count": 10,
     "metadata": {},
     "output_type": "execute_result"
    }
   ],
   "source": [
    "df = df.sort_values('USE Score', ascending=False)\n",
    "df.index = np.arange(1,len(df)+1)\n",
    "df"
   ]
  },
  {
   "cell_type": "code",
   "execution_count": 11,
   "metadata": {},
   "outputs": [
    {
     "data": {
      "image/png": "[encoded data removed]",
      "text/plain": [
       "<Figure size 864x576 with 1 Axes>"
      ]
     },
     "metadata": {},
     "output_type": "display_data"
    }
   ],
   "source": [
    "bert = [r*100 for r in df['BERT Score']]\n",
    "use = [r*100 for r in df['USE Score']]\n",
    "elmo = [r*100 for r in df['ELMO Score']]\n",
    "\n",
    "plt.figure(figsize=(12, 8))\n",
    "rank = [1, 2, 3, 4, 5, 6, 7, 8, 9, 10]\n",
    "\n",
    "plt.xlim([1, 10])\n",
    "plt.ylim([40, 100])\n",
    "plt.plot(rank, bert, color='green')\n",
    "plt.plot(rank, use, color='orange')\n",
    "plt.plot(rank, elmo, color='blue')\n",
    "plt.xlabel(\"Ranking\")\n",
    "plt.ylabel('Cosine similarity')\n",
    "plt.title(\"Score comparison\")\n",
    "plt.legend([\"bert\", \"use\", \"elmo\"], loc=4)\n",
    "plt.savefig(\"USE model_comparison\")\n",
    "plt.show()"
   ]
  }
 ],
 "metadata": {
  "kernelspec": {
   "display_name": "Environment (conda_tensorflow_p36)",
   "language": "python",
   "name": "conda_tensorflow_p36"
  },
  "language_info": {
   "codemirror_mode": {
    "name": "ipython",
    "version": 3
   },
   "file_extension": ".py",
   "mimetype": "text/x-python",
   "name": "python",
   "nbconvert_exporter": "python",
   "pygments_lexer": "ipython3",
   "version": "3.6.3"
  }
 },
 "nbformat": 4,
 "nbformat_minor": 2
}
